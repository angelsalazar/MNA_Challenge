{
  "nbformat": 4,
  "nbformat_minor": 0,
  "metadata": {
    "colab": {
      "provenance": []
    },
    "kernelspec": {
      "name": "python3",
      "display_name": "Python 3"
    },
    "language_info": {
      "name": "python"
    }
  },
  "cells": [
    {
      "cell_type": "code",
      "execution_count": 128,
      "metadata": {
        "id": "LA2EWxplSuYr"
      },
      "outputs": [],
      "source": [
        "# importing core libraries\n",
        "import pandas as pd\n",
        "import numpy as np\n",
        "from sklearn.model_selection import train_test_split\n",
        "from sklearn.preprocessing import StandardScaler\n",
        "from sklearn.pipeline import Pipeline\n",
        "from sklearn.ensemble import RandomForestRegressor\n",
        "from sklearn.ensemble import RandomForestClassifier\n",
        "from sklearn.tree import DecisionTreeClassifier\n",
        "from sklearn.metrics import classification_report\n",
        "from sklearn.metrics import confusion_matrix\n",
        "from sklearn.model_selection import cross_val_score\n",
        "from sklearn.model_selection import KFold\n",
        "from sklearn.metrics import precision_recall_curve\n",
        "from sklearn.metrics import average_precision_score\n",
        "from sklearn.metrics import PrecisionRecallDisplay\n",
        "from sklearn.preprocessing import label_binarize\n",
        "import matplotlib.pyplot as plt\n",
        "import seaborn as sns\n",
        "%matplotlib inline"
      ]
    },
    {
      "cell_type": "code",
      "source": [
        "# reading selected dataframe\n",
        "df = pd.read_csv('https://raw.githubusercontent.com/angelsalazar/MNA_Challenge/main/datasets/cleaned_data.csv', encoding='latin-1')\n",
        "df.head()"
      ],
      "metadata": {
        "colab": {
          "base_uri": "https://localhost:8080/",
          "height": 438
        },
        "id": "2ARyzV2TTPwC",
        "outputId": "9ed12788-e579-4c34-ab3b-a77f2a8b03f1"
      },
      "execution_count": 49,
      "outputs": [
        {
          "output_type": "execute_result",
          "data": {
            "text/plain": [
              "   Unnamed: 0      CLAVE                    SITIO  \\\n",
              "0           0     DLAGU6             POZO SAN GIL   \n",
              "1           1  DLAGU6516  POZO R013 CAÃADA HONDA   \n",
              "2           2     DLAGU7               POZO COSIO   \n",
              "3           3     DLAGU9       POZO EL SALITRILLO   \n",
              "4           4   DLBAJ107       RANCHO EL TECOLOTE   \n",
              "\n",
              "            ORGANISMO_DE_CUENCA               ESTADO        MUNICIPIO  \\\n",
              "0       LERMA SANTIAGO PACIFICO       AGUASCALIENTES         ASIENTOS   \n",
              "1       LERMA SANTIAGO PACIFICO       AGUASCALIENTES   AGUASCALIENTES   \n",
              "2       LERMA SANTIAGO PACIFICO       AGUASCALIENTES            COSIO   \n",
              "3       LERMA SANTIAGO PACIFICO       AGUASCALIENTES  RINCON DE ROMOS   \n",
              "4  PENINSULA DE BAJA CALIFORNIA  BAJA CALIFORNIA SUR           LA PAZ   \n",
              "\n",
              "                  ACUIFERO SUBTIPO   LONGITUD   LATITUD  ...  CUMPLE_CON_DUR  \\\n",
              "0       VALLE DE CHICALOTE    POZO -102.02210  22.20887  ...               1   \n",
              "1       VALLE DE CHICALOTE    POZO -102.20075  21.99958  ...               1   \n",
              "2  VALLE DE AGUASCALIENTES    POZO -102.28801  22.36685  ...               1   \n",
              "3  VALLE DE AGUASCALIENTES    POZO -102.29449  22.18435  ...               1   \n",
              "4             TODOS SANTOS    POZO -110.24480  23.45138  ...               1   \n",
              "\n",
              "  CUMPLE_CON_CF  CUMPLE_CON_NO3 CUMPLE_CON_AS  CUMPLE_CON_CD CUMPLE_CON_CR  \\\n",
              "0             1               1             1              1             1   \n",
              "1             1               1             1              1             1   \n",
              "2             1               1             0              1             1   \n",
              "3             1               1             1              1             1   \n",
              "4             1               0             1              1             1   \n",
              "\n",
              "  CUMPLE_CON_HG  CUMPLE_CON_PB CUMPLE_CON_MN  CUMPLE_CON_FE  \n",
              "0             1              1             1              1  \n",
              "1             1              1             1              1  \n",
              "2             1              1             1              1  \n",
              "3             1              1             1              1  \n",
              "4             1              1             1              1  \n",
              "\n",
              "[5 rows x 56 columns]"
            ],
            "text/html": [
              "\n",
              "  <div id=\"df-2ac6b760-2406-44ce-8117-ddeefa918c20\">\n",
              "    <div class=\"colab-df-container\">\n",
              "      <div>\n",
              "<style scoped>\n",
              "    .dataframe tbody tr th:only-of-type {\n",
              "        vertical-align: middle;\n",
              "    }\n",
              "\n",
              "    .dataframe tbody tr th {\n",
              "        vertical-align: top;\n",
              "    }\n",
              "\n",
              "    .dataframe thead th {\n",
              "        text-align: right;\n",
              "    }\n",
              "</style>\n",
              "<table border=\"1\" class=\"dataframe\">\n",
              "  <thead>\n",
              "    <tr style=\"text-align: right;\">\n",
              "      <th></th>\n",
              "      <th>Unnamed: 0</th>\n",
              "      <th>CLAVE</th>\n",
              "      <th>SITIO</th>\n",
              "      <th>ORGANISMO_DE_CUENCA</th>\n",
              "      <th>ESTADO</th>\n",
              "      <th>MUNICIPIO</th>\n",
              "      <th>ACUIFERO</th>\n",
              "      <th>SUBTIPO</th>\n",
              "      <th>LONGITUD</th>\n",
              "      <th>LATITUD</th>\n",
              "      <th>...</th>\n",
              "      <th>CUMPLE_CON_DUR</th>\n",
              "      <th>CUMPLE_CON_CF</th>\n",
              "      <th>CUMPLE_CON_NO3</th>\n",
              "      <th>CUMPLE_CON_AS</th>\n",
              "      <th>CUMPLE_CON_CD</th>\n",
              "      <th>CUMPLE_CON_CR</th>\n",
              "      <th>CUMPLE_CON_HG</th>\n",
              "      <th>CUMPLE_CON_PB</th>\n",
              "      <th>CUMPLE_CON_MN</th>\n",
              "      <th>CUMPLE_CON_FE</th>\n",
              "    </tr>\n",
              "  </thead>\n",
              "  <tbody>\n",
              "    <tr>\n",
              "      <th>0</th>\n",
              "      <td>0</td>\n",
              "      <td>DLAGU6</td>\n",
              "      <td>POZO SAN GIL</td>\n",
              "      <td>LERMA SANTIAGO PACIFICO</td>\n",
              "      <td>AGUASCALIENTES</td>\n",
              "      <td>ASIENTOS</td>\n",
              "      <td>VALLE DE CHICALOTE</td>\n",
              "      <td>POZO</td>\n",
              "      <td>-102.02210</td>\n",
              "      <td>22.20887</td>\n",
              "      <td>...</td>\n",
              "      <td>1</td>\n",
              "      <td>1</td>\n",
              "      <td>1</td>\n",
              "      <td>1</td>\n",
              "      <td>1</td>\n",
              "      <td>1</td>\n",
              "      <td>1</td>\n",
              "      <td>1</td>\n",
              "      <td>1</td>\n",
              "      <td>1</td>\n",
              "    </tr>\n",
              "    <tr>\n",
              "      <th>1</th>\n",
              "      <td>1</td>\n",
              "      <td>DLAGU6516</td>\n",
              "      <td>POZO R013 CAÃADA HONDA</td>\n",
              "      <td>LERMA SANTIAGO PACIFICO</td>\n",
              "      <td>AGUASCALIENTES</td>\n",
              "      <td>AGUASCALIENTES</td>\n",
              "      <td>VALLE DE CHICALOTE</td>\n",
              "      <td>POZO</td>\n",
              "      <td>-102.20075</td>\n",
              "      <td>21.99958</td>\n",
              "      <td>...</td>\n",
              "      <td>1</td>\n",
              "      <td>1</td>\n",
              "      <td>1</td>\n",
              "      <td>1</td>\n",
              "      <td>1</td>\n",
              "      <td>1</td>\n",
              "      <td>1</td>\n",
              "      <td>1</td>\n",
              "      <td>1</td>\n",
              "      <td>1</td>\n",
              "    </tr>\n",
              "    <tr>\n",
              "      <th>2</th>\n",
              "      <td>2</td>\n",
              "      <td>DLAGU7</td>\n",
              "      <td>POZO COSIO</td>\n",
              "      <td>LERMA SANTIAGO PACIFICO</td>\n",
              "      <td>AGUASCALIENTES</td>\n",
              "      <td>COSIO</td>\n",
              "      <td>VALLE DE AGUASCALIENTES</td>\n",
              "      <td>POZO</td>\n",
              "      <td>-102.28801</td>\n",
              "      <td>22.36685</td>\n",
              "      <td>...</td>\n",
              "      <td>1</td>\n",
              "      <td>1</td>\n",
              "      <td>1</td>\n",
              "      <td>0</td>\n",
              "      <td>1</td>\n",
              "      <td>1</td>\n",
              "      <td>1</td>\n",
              "      <td>1</td>\n",
              "      <td>1</td>\n",
              "      <td>1</td>\n",
              "    </tr>\n",
              "    <tr>\n",
              "      <th>3</th>\n",
              "      <td>3</td>\n",
              "      <td>DLAGU9</td>\n",
              "      <td>POZO EL SALITRILLO</td>\n",
              "      <td>LERMA SANTIAGO PACIFICO</td>\n",
              "      <td>AGUASCALIENTES</td>\n",
              "      <td>RINCON DE ROMOS</td>\n",
              "      <td>VALLE DE AGUASCALIENTES</td>\n",
              "      <td>POZO</td>\n",
              "      <td>-102.29449</td>\n",
              "      <td>22.18435</td>\n",
              "      <td>...</td>\n",
              "      <td>1</td>\n",
              "      <td>1</td>\n",
              "      <td>1</td>\n",
              "      <td>1</td>\n",
              "      <td>1</td>\n",
              "      <td>1</td>\n",
              "      <td>1</td>\n",
              "      <td>1</td>\n",
              "      <td>1</td>\n",
              "      <td>1</td>\n",
              "    </tr>\n",
              "    <tr>\n",
              "      <th>4</th>\n",
              "      <td>4</td>\n",
              "      <td>DLBAJ107</td>\n",
              "      <td>RANCHO EL TECOLOTE</td>\n",
              "      <td>PENINSULA DE BAJA CALIFORNIA</td>\n",
              "      <td>BAJA CALIFORNIA SUR</td>\n",
              "      <td>LA PAZ</td>\n",
              "      <td>TODOS SANTOS</td>\n",
              "      <td>POZO</td>\n",
              "      <td>-110.24480</td>\n",
              "      <td>23.45138</td>\n",
              "      <td>...</td>\n",
              "      <td>1</td>\n",
              "      <td>1</td>\n",
              "      <td>0</td>\n",
              "      <td>1</td>\n",
              "      <td>1</td>\n",
              "      <td>1</td>\n",
              "      <td>1</td>\n",
              "      <td>1</td>\n",
              "      <td>1</td>\n",
              "      <td>1</td>\n",
              "    </tr>\n",
              "  </tbody>\n",
              "</table>\n",
              "<p>5 rows × 56 columns</p>\n",
              "</div>\n",
              "      <button class=\"colab-df-convert\" onclick=\"convertToInteractive('df-2ac6b760-2406-44ce-8117-ddeefa918c20')\"\n",
              "              title=\"Convert this dataframe to an interactive table.\"\n",
              "              style=\"display:none;\">\n",
              "        \n",
              "  <svg xmlns=\"http://www.w3.org/2000/svg\" height=\"24px\"viewBox=\"0 0 24 24\"\n",
              "       width=\"24px\">\n",
              "    <path d=\"M0 0h24v24H0V0z\" fill=\"none\"/>\n",
              "    <path d=\"M18.56 5.44l.94 2.06.94-2.06 2.06-.94-2.06-.94-.94-2.06-.94 2.06-2.06.94zm-11 1L8.5 8.5l.94-2.06 2.06-.94-2.06-.94L8.5 2.5l-.94 2.06-2.06.94zm10 10l.94 2.06.94-2.06 2.06-.94-2.06-.94-.94-2.06-.94 2.06-2.06.94z\"/><path d=\"M17.41 7.96l-1.37-1.37c-.4-.4-.92-.59-1.43-.59-.52 0-1.04.2-1.43.59L10.3 9.45l-7.72 7.72c-.78.78-.78 2.05 0 2.83L4 21.41c.39.39.9.59 1.41.59.51 0 1.02-.2 1.41-.59l7.78-7.78 2.81-2.81c.8-.78.8-2.07 0-2.86zM5.41 20L4 18.59l7.72-7.72 1.47 1.35L5.41 20z\"/>\n",
              "  </svg>\n",
              "      </button>\n",
              "      \n",
              "  <style>\n",
              "    .colab-df-container {\n",
              "      display:flex;\n",
              "      flex-wrap:wrap;\n",
              "      gap: 12px;\n",
              "    }\n",
              "\n",
              "    .colab-df-convert {\n",
              "      background-color: #E8F0FE;\n",
              "      border: none;\n",
              "      border-radius: 50%;\n",
              "      cursor: pointer;\n",
              "      display: none;\n",
              "      fill: #1967D2;\n",
              "      height: 32px;\n",
              "      padding: 0 0 0 0;\n",
              "      width: 32px;\n",
              "    }\n",
              "\n",
              "    .colab-df-convert:hover {\n",
              "      background-color: #E2EBFA;\n",
              "      box-shadow: 0px 1px 2px rgba(60, 64, 67, 0.3), 0px 1px 3px 1px rgba(60, 64, 67, 0.15);\n",
              "      fill: #174EA6;\n",
              "    }\n",
              "\n",
              "    [theme=dark] .colab-df-convert {\n",
              "      background-color: #3B4455;\n",
              "      fill: #D2E3FC;\n",
              "    }\n",
              "\n",
              "    [theme=dark] .colab-df-convert:hover {\n",
              "      background-color: #434B5C;\n",
              "      box-shadow: 0px 1px 3px 1px rgba(0, 0, 0, 0.15);\n",
              "      filter: drop-shadow(0px 1px 2px rgba(0, 0, 0, 0.3));\n",
              "      fill: #FFFFFF;\n",
              "    }\n",
              "  </style>\n",
              "\n",
              "      <script>\n",
              "        const buttonEl =\n",
              "          document.querySelector('#df-2ac6b760-2406-44ce-8117-ddeefa918c20 button.colab-df-convert');\n",
              "        buttonEl.style.display =\n",
              "          google.colab.kernel.accessAllowed ? 'block' : 'none';\n",
              "\n",
              "        async function convertToInteractive(key) {\n",
              "          const element = document.querySelector('#df-2ac6b760-2406-44ce-8117-ddeefa918c20');\n",
              "          const dataTable =\n",
              "            await google.colab.kernel.invokeFunction('convertToInteractive',\n",
              "                                                     [key], {});\n",
              "          if (!dataTable) return;\n",
              "\n",
              "          const docLinkHtml = 'Like what you see? Visit the ' +\n",
              "            '<a target=\"_blank\" href=https://colab.research.google.com/notebooks/data_table.ipynb>data table notebook</a>'\n",
              "            + ' to learn more about interactive tables.';\n",
              "          element.innerHTML = '';\n",
              "          dataTable['output_type'] = 'display_data';\n",
              "          await google.colab.output.renderOutput(dataTable, element);\n",
              "          const docLink = document.createElement('div');\n",
              "          docLink.innerHTML = docLinkHtml;\n",
              "          element.appendChild(docLink);\n",
              "        }\n",
              "      </script>\n",
              "    </div>\n",
              "  </div>\n",
              "  "
            ]
          },
          "metadata": {},
          "execution_count": 49
        }
      ]
    },
    {
      "cell_type": "code",
      "source": [
        "# droping unexpected column\n",
        "df.drop('Unnamed: 0', axis = 1, inplace=True)"
      ],
      "metadata": {
        "id": "epvvJ03FTgTc"
      },
      "execution_count": 50,
      "outputs": []
    },
    {
      "cell_type": "code",
      "source": [
        "df.info()"
      ],
      "metadata": {
        "colab": {
          "base_uri": "https://localhost:8080/"
        },
        "id": "J2lBNE0xBZNQ",
        "outputId": "627414b5-0c0b-4bf5-91a1-5702c4e8fa33"
      },
      "execution_count": 51,
      "outputs": [
        {
          "output_type": "stream",
          "name": "stdout",
          "text": [
            "<class 'pandas.core.frame.DataFrame'>\n",
            "RangeIndex: 1054 entries, 0 to 1053\n",
            "Data columns (total 55 columns):\n",
            " #   Column                Non-Null Count  Dtype  \n",
            "---  ------                --------------  -----  \n",
            " 0   CLAVE                 1054 non-null   object \n",
            " 1   SITIO                 1054 non-null   object \n",
            " 2   ORGANISMO_DE_CUENCA   1054 non-null   object \n",
            " 3   ESTADO                1054 non-null   object \n",
            " 4   MUNICIPIO             1054 non-null   object \n",
            " 5   ACUIFERO              1054 non-null   object \n",
            " 6   SUBTIPO               1054 non-null   object \n",
            " 7   LONGITUD              1054 non-null   float64\n",
            " 8   LATITUD               1054 non-null   float64\n",
            " 9   ALC_mg/L              1054 non-null   float64\n",
            " 10  CALIDAD_ALC           1054 non-null   object \n",
            " 11  CONDUCT_mS/cm         1054 non-null   float64\n",
            " 12  CALIDAD_CONDUC        1054 non-null   object \n",
            " 13  SDT_M_mg/L            1054 non-null   float64\n",
            " 14  CALIDAD_SDT_ra        1054 non-null   object \n",
            " 15  CALIDAD_SDT_salin     1054 non-null   object \n",
            " 16  FLUORUROS_mg/L        1054 non-null   float64\n",
            " 17  CALIDAD_FLUO          1054 non-null   object \n",
            " 18  DUR_mg/L              1054 non-null   float64\n",
            " 19  CALIDAD_DUR           1054 non-null   object \n",
            " 20  COLI_FEC_NMP/100_mL   1054 non-null   float64\n",
            " 21  CALIDAD_COLI_FEC      1054 non-null   object \n",
            " 22  N_NO3_mg/L            1054 non-null   float64\n",
            " 23  CALIDAD_N_NO3         1054 non-null   object \n",
            " 24  AS_TOT_mg/L           1054 non-null   float64\n",
            " 25  CALIDAD_AS            1054 non-null   object \n",
            " 26  CD_TOT_mg/L           1054 non-null   float64\n",
            " 27  CALIDAD_CD            1054 non-null   object \n",
            " 28  CR_TOT_mg/L           1054 non-null   float64\n",
            " 29  CALIDAD_CR            1054 non-null   object \n",
            " 30  HG_TOT_mg/L           1054 non-null   float64\n",
            " 31  CALIDAD_HG            1054 non-null   object \n",
            " 32  PB_TOT_mg/L           1054 non-null   float64\n",
            " 33  CALIDAD_PB            1054 non-null   object \n",
            " 34  MN_TOT_mg/L           1054 non-null   float64\n",
            " 35  CALIDAD_MN            1054 non-null   object \n",
            " 36  FE_TOT_mg/L           1054 non-null   float64\n",
            " 37  CALIDAD_FE            1054 non-null   object \n",
            " 38  SEMAFORO              1054 non-null   object \n",
            " 39  CONTAMINANTES         1054 non-null   object \n",
            " 40  CUMPLE_CON_ALC        1054 non-null   int64  \n",
            " 41  CUMPLE_CON_COND       1054 non-null   int64  \n",
            " 42  CUMPLE_CON_SDT_ra     1054 non-null   int64  \n",
            " 43  CUMPLE_CON_SDT_salin  1054 non-null   int64  \n",
            " 44  CUMPLE_CON_FLUO       1054 non-null   int64  \n",
            " 45  CUMPLE_CON_DUR        1054 non-null   int64  \n",
            " 46  CUMPLE_CON_CF         1054 non-null   int64  \n",
            " 47  CUMPLE_CON_NO3        1054 non-null   int64  \n",
            " 48  CUMPLE_CON_AS         1054 non-null   int64  \n",
            " 49  CUMPLE_CON_CD         1054 non-null   int64  \n",
            " 50  CUMPLE_CON_CR         1054 non-null   int64  \n",
            " 51  CUMPLE_CON_HG         1054 non-null   int64  \n",
            " 52  CUMPLE_CON_PB         1054 non-null   int64  \n",
            " 53  CUMPLE_CON_MN         1054 non-null   int64  \n",
            " 54  CUMPLE_CON_FE         1054 non-null   int64  \n",
            "dtypes: float64(16), int64(15), object(24)\n",
            "memory usage: 453.0+ KB\n"
          ]
        }
      ]
    },
    {
      "cell_type": "code",
      "source": [
        "# displaying existing values in the column SEMAFORO\n",
        "df['SEMAFORO'].value_counts()"
      ],
      "metadata": {
        "colab": {
          "base_uri": "https://localhost:8080/"
        },
        "id": "Ktb18AxjUKpq",
        "outputId": "b714f170-8de2-44ee-aa3e-bdb51469a118"
      },
      "execution_count": 52,
      "outputs": [
        {
          "output_type": "execute_result",
          "data": {
            "text/plain": [
              "Verde       427\n",
              "Rojo        382\n",
              "Amarillo    245\n",
              "Name: SEMAFORO, dtype: int64"
            ]
          },
          "metadata": {},
          "execution_count": 52
        }
      ]
    },
    {
      "cell_type": "markdown",
      "source": [
        "The previous challenge was useful to determine that the water quality is denoted by the following columns:\n",
        "\n",
        "* ALC_mg/L\n",
        "* CONDUCT_mS/cm\n",
        "* SDT_M_mg/L\n",
        "* FLUORUROS_mg/L\n",
        "* DUR_mg/L\n",
        "* COLI_FEC_NMP/100_mL\n",
        "* N_NO3_mg/L\n",
        "* AS_TOT_mg/L\n",
        "* CD_TOT_mg/L\n",
        "* CR_TOT_mg/L\n",
        "* HG_TOT_mg/L\n",
        "* PB_TOT_mg/L\n",
        "* MN_TOT_mg/L\n",
        "* FE_TOT_mg/L\n",
        "\n",
        "if the values recorded for each column do not exceed a certain threshold, the water quality can be labeled as best (Green / 3), regular (Yellow / 2), and worst (Red / 1).\n",
        "\n",
        "The columns listed above will be considered as the independent features that will be used to predict water quality.\n"
      ],
      "metadata": {
        "id": "a1L_3vIaC6re"
      }
    },
    {
      "cell_type": "code",
      "source": [
        "featureNames = [\n",
        "    'ALC_mg/L',\n",
        "    'CONDUCT_mS/cm',\n",
        "    'SDT_M_mg/L',\n",
        "    'FLUORUROS_mg/L',\n",
        "    'DUR_mg/L',\n",
        "    'COLI_FEC_NMP/100_mL',\n",
        "    'N_NO3_mg/L',\n",
        "    'AS_TOT_mg/L',\n",
        "    'CD_TOT_mg/L',\n",
        "    'CR_TOT_mg/L',\n",
        "    'HG_TOT_mg/L',\n",
        "    'PB_TOT_mg/L',\n",
        "    'MN_TOT_mg/L',\n",
        "    'FE_TOT_mg/L'\n",
        "]"
      ],
      "metadata": {
        "id": "hNsYMIUkGeDA"
      },
      "execution_count": 53,
      "outputs": []
    },
    {
      "cell_type": "code",
      "source": [
        "# defining independant and dependant feature\n",
        "X = df[featureNames]\n",
        "y = df['SEMAFORO']"
      ],
      "metadata": {
        "id": "2rW9PJMRDLdb"
      },
      "execution_count": 81,
      "outputs": []
    },
    {
      "cell_type": "code",
      "source": [
        "Y = label_binarize(y, classes = ['Verde', 'Amarillo', 'Rojo'])"
      ],
      "metadata": {
        "id": "Ybkpa6fzgJmE"
      },
      "execution_count": 82,
      "outputs": []
    },
    {
      "cell_type": "code",
      "source": [
        "# creating training and testing subsets\n",
        "# 20% of the dataset will be used for testing\n",
        "X_train, X_test, y_train, y_test = train_test_split(X, Y, test_size=0.2, random_state=42)"
      ],
      "metadata": {
        "id": "GszlCmujFgD9"
      },
      "execution_count": 83,
      "outputs": []
    },
    {
      "cell_type": "markdown",
      "source": [
        "## Feature importance using RandomForestRegressor\n",
        "\n"
      ],
      "metadata": {
        "id": "dEaCQWWRFzEA"
      }
    },
    {
      "cell_type": "code",
      "source": [
        "# creating instance of RandomForestRegressor\n",
        "pipe = Pipeline([('scaler', StandardScaler()), ('rf', RandomForestRegressor())])"
      ],
      "metadata": {
        "id": "OmmBv9s2F6mQ"
      },
      "execution_count": 84,
      "outputs": []
    },
    {
      "cell_type": "code",
      "source": [
        "# training model\n",
        "pipe.fit(X_train, y_train)"
      ],
      "metadata": {
        "colab": {
          "base_uri": "https://localhost:8080/"
        },
        "id": "ShYHW4xuGKQl",
        "outputId": "52620208-44ca-4d81-90e5-4a8329591482"
      },
      "execution_count": 85,
      "outputs": [
        {
          "output_type": "execute_result",
          "data": {
            "text/plain": [
              "Pipeline(steps=[('scaler', StandardScaler()), ('rf', RandomForestRegressor())])"
            ]
          },
          "metadata": {},
          "execution_count": 85
        }
      ]
    },
    {
      "cell_type": "code",
      "source": [
        "# getting computed feature importance\n",
        "pipe['rf'].feature_importances_"
      ],
      "metadata": {
        "colab": {
          "base_uri": "https://localhost:8080/"
        },
        "id": "JjAdvlb6Gnre",
        "outputId": "05e86f89-5c44-4586-ad9f-3ed60f91b3da"
      },
      "execution_count": 86,
      "outputs": [
        {
          "output_type": "execute_result",
          "data": {
            "text/plain": [
              "array([0.01302313, 0.01903208, 0.00376616, 0.21264158, 0.1824024 ,\n",
              "       0.11995637, 0.12898956, 0.09776812, 0.00609465, 0.02397947,\n",
              "       0.00600631, 0.02232367, 0.08194264, 0.08207387])"
            ]
          },
          "metadata": {},
          "execution_count": 86
        }
      ]
    },
    {
      "cell_type": "code",
      "source": [
        "# floting featue importance\n",
        "plt.barh(featureNames, pipe['rf'].feature_importances_)"
      ],
      "metadata": {
        "colab": {
          "base_uri": "https://localhost:8080/",
          "height": 283
        },
        "id": "GSF-Wb_QGwKI",
        "outputId": "fc730183-f2d3-4e12-8e68-a878a29b5ba4"
      },
      "execution_count": 87,
      "outputs": [
        {
          "output_type": "execute_result",
          "data": {
            "text/plain": [
              "<BarContainer object of 14 artists>"
            ]
          },
          "metadata": {},
          "execution_count": 87
        },
        {
          "output_type": "display_data",
          "data": {
            "text/plain": [
              "<Figure size 432x288 with 1 Axes>"
            ],
            "image/png": "[encoded data removed]"
          },
          "metadata": {
            "needs_background": "light"
          }
        }
      ]
    },
    {
      "cell_type": "code",
      "source": [
        "# sorting feature importance\n",
        "sorted_idx = pipe['rf'].feature_importances_.argsort()\n",
        "# ploting feature importance DESC\n",
        "plt.barh(np.array(featureNames)[sorted_idx], pipe['rf'].feature_importances_[sorted_idx])\n",
        "plt.xlabel(\"Random Forest Feature Importance\")"
      ],
      "metadata": {
        "colab": {
          "base_uri": "https://localhost:8080/",
          "height": 297
        },
        "id": "QeVji0v7Hlj2",
        "outputId": "e5ec0bc5-6a83-444f-c85c-2464d0614617"
      },
      "execution_count": 88,
      "outputs": [
        {
          "output_type": "execute_result",
          "data": {
            "text/plain": [
              "Text(0.5, 0, 'Random Forest Feature Importance')"
            ]
          },
          "metadata": {},
          "execution_count": 88
        },
        {
          "output_type": "display_data",
          "data": {
            "text/plain": [
              "<Figure size 432x288 with 1 Axes>"
            ],
            "image/png": "[encoded data removed]"
          },
          "metadata": {
            "needs_background": "light"
          }
        }
      ]
    },
    {
      "cell_type": "markdown",
      "source": [
        "the figure displayed above shows that the `FLUORUROS_mg/L` column is the most relevant feature.\n",
        "\n",
        "For simplicity purposes, only the top 5 features will be selected to train predictive models."
      ],
      "metadata": {
        "id": "YaGRXMq5L4Tx"
      }
    },
    {
      "cell_type": "code",
      "source": [
        "# defining most relevant features\n",
        "mostRelevantFeatures = [\n",
        "    'FLUORUROS_mg/L',\n",
        "    'DUR_mg/L',\n",
        "    'N_NO3_mg/L',\n",
        "    'COLI_FEC_NMP/100_mL',\n",
        "    'AS_TOT_mg/L'\n",
        "];"
      ],
      "metadata": {
        "id": "a_KPZGi6Mg7k"
      },
      "execution_count": 89,
      "outputs": []
    },
    {
      "cell_type": "code",
      "source": [
        "# defining selected independent variables\n",
        "X = df[mostRelevantFeatures]"
      ],
      "metadata": {
        "id": "xPGC3WK6M4yY"
      },
      "execution_count": 90,
      "outputs": []
    },
    {
      "cell_type": "code",
      "source": [
        "# recreating training and testing subsets\n",
        "# 30% of the dataset will be used for testing\n",
        "X_train, X_test, y_train, y_test = train_test_split(X, Y, test_size=0.2, random_state=42)"
      ],
      "metadata": {
        "id": "RXBhPA9KM4L7"
      },
      "execution_count": 91,
      "outputs": []
    },
    {
      "cell_type": "markdown",
      "source": [
        "## Decision Tree vs Random Forest\n"
      ],
      "metadata": {
        "id": "WMH7ePaSNHYy"
      }
    },
    {
      "cell_type": "code",
      "source": [
        "def matchup(models, targetsNames):\n",
        "  classifierMetadatasByName = {}\n",
        "\n",
        "  for name, model in models:\n",
        "    print(name)\n",
        "    print('Regular training')\n",
        "    \n",
        "    # regular training\n",
        "    clf = model.fit(X_train, y_train)\n",
        "    y_pred = clf.predict(X_test)\n",
        "    \n",
        "    print(classification_report(y_test, y_pred, target_names=targetsNames, zero_division = 1))\n",
        "    print('Cross validation training')\n",
        "    # fold generator\n",
        "    kfold = KFold(n_splits=3, shuffle=True, random_state=90210)\n",
        "    # cross validation training\n",
        "    # for more information regarding scoring\n",
        "    # visit the following link https://scikit-learn.org/stable/modules/model_evaluation.html#scoring-parameter\n",
        "    cv_scores = cross_val_score(model, X_train, y_train, cv = kfold, scoring = 'accuracy')\n",
        "    print(f'accuracy \\t {np.mean(cv_scores)}')\n",
        "    print('\\n')\n",
        "    metadata = {}\n",
        "    metadata['classifier'] = clf\n",
        "    metadata['y_pred'] = y_pred\n",
        "    classifierMetadatasByName[name] = metadata\n",
        "  return classifierMetadatasByName"
      ],
      "metadata": {
        "id": "TyjAc9OHN02b"
      },
      "execution_count": 98,
      "outputs": []
    },
    {
      "cell_type": "code",
      "source": [
        "models = [\n",
        "  ('DecisionTreeClassifier', Pipeline([('scaler', StandardScaler()), ('DecisionTreeClassifier', DecisionTreeClassifier())]) ),\n",
        "  ('RandomForestClassifier', Pipeline([('scaler', StandardScaler()), ('RandomForestClassifier', RandomForestClassifier())]) )\n",
        "]\n",
        "\n",
        "labels = ['Verde', 'Amarillo', 'Rojo']\n",
        "classifierMetadatasByName = matchup(models, labels)"
      ],
      "metadata": {
        "colab": {
          "base_uri": "https://localhost:8080/"
        },
        "id": "-VeLgIG7RLIQ",
        "outputId": "a80119a6-73d2-4c2a-fb1a-e3c15d6c543d"
      },
      "execution_count": 103,
      "outputs": [
        {
          "output_type": "stream",
          "name": "stdout",
          "text": [
            "DecisionTreeClassifier\n",
            "Regular training\n",
            "              precision    recall  f1-score   support\n",
            "\n",
            "       Verde       0.77      0.77      0.77        87\n",
            "    Amarillo       0.69      0.64      0.66        55\n",
            "        Rojo       0.88      0.93      0.90        69\n",
            "\n",
            "   micro avg       0.79      0.79      0.79       211\n",
            "   macro avg       0.78      0.78      0.78       211\n",
            "weighted avg       0.78      0.79      0.78       211\n",
            " samples avg       0.79      0.79      0.79       211\n",
            "\n",
            "Cross validation training\n",
            "accuracy \t 0.8315539739027283\n",
            "\n",
            "\n",
            "RandomForestClassifier\n",
            "Regular training\n",
            "              precision    recall  f1-score   support\n",
            "\n",
            "       Verde       0.78      0.92      0.85        87\n",
            "    Amarillo       0.91      0.58      0.71        55\n",
            "        Rojo       0.98      0.94      0.96        69\n",
            "\n",
            "   micro avg       0.87      0.84      0.86       211\n",
            "   macro avg       0.89      0.81      0.84       211\n",
            "weighted avg       0.88      0.84      0.85       211\n",
            " samples avg       0.88      0.84      0.84       211\n",
            "\n",
            "Cross validation training\n",
            "accuracy \t 0.863582443653618\n",
            "\n",
            "\n"
          ]
        }
      ]
    },
    {
      "cell_type": "markdown",
      "source": [
        "Based on the metrics displayed above, the RandomForestClassifier is the most effective out of the two trained models.\n",
        "\n",
        "The accuracy reported for RandomForestClassifier is **86.3%** when trained using the cross-validation method which uses different portions of the data to test and train a model on different iterations. "
      ],
      "metadata": {
        "id": "6WQSg-wAX6PD"
      }
    },
    {
      "cell_type": "markdown",
      "source": [
        "## Plotting Precision-Recall\n"
      ],
      "metadata": {
        "id": "hfTtypKPiZsk"
      }
    },
    {
      "cell_type": "code",
      "source": [
        "# utilitary method\n",
        "\n",
        "def plotAvgPrecisionRecall(title, y_score):\n",
        "  precision = dict()\n",
        "  recall = dict()\n",
        "  average_precision = dict()\n",
        "  n_classes = Y.shape[1]\n",
        "\n",
        "  for i in range(n_classes):\n",
        "    precision[i], recall[i], _ = precision_recall_curve(y_test[:, i], y_score[:, i])\n",
        "    average_precision[i] = average_precision_score(y_test[:, i], y_score[:, i])\n",
        "\n",
        "  # A \"micro-average\": quantifying score on all classes jointly\n",
        "  precision[\"micro\"], recall[\"micro\"], _ = precision_recall_curve(\n",
        "      y_test.ravel(), y_score.ravel()\n",
        "  )\n",
        "  average_precision[\"micro\"] = average_precision_score(y_test, y_score, average=\"micro\")\n",
        "\n",
        "  display = PrecisionRecallDisplay(\n",
        "      recall=recall[\"micro\"],\n",
        "      precision=precision[\"micro\"],\n",
        "      average_precision=average_precision[\"micro\"],\n",
        "  )\n",
        "  display.plot()\n",
        "  _ = display.ax_.set_title(f\"{title} - Micro-averaged over all classes\")"
      ],
      "metadata": {
        "id": "hmksCY5SmXHq"
      },
      "execution_count": 109,
      "outputs": []
    },
    {
      "cell_type": "markdown",
      "source": [
        "### DecisionTreeClassifier"
      ],
      "metadata": {
        "id": "0VRDtEDulu7C"
      }
    },
    {
      "cell_type": "code",
      "source": [
        "plotAvgPrecisionRecall('DecisionTreeClassifier', classifierMetadatasByName['DecisionTreeClassifier']['y_pred'])"
      ],
      "metadata": {
        "colab": {
          "base_uri": "https://localhost:8080/",
          "height": 295
        },
        "id": "Ns2hyJs5m4FV",
        "outputId": "9af8f38d-e6d6-43f9-e087-82493b12f65b"
      },
      "execution_count": 110,
      "outputs": [
        {
          "output_type": "display_data",
          "data": {
            "text/plain": [
              "<Figure size 432x288 with 1 Axes>"
            ],
            "image/png": "[encoded data removed]"
          },
          "metadata": {
            "needs_background": "light"
          }
        }
      ]
    },
    {
      "cell_type": "markdown",
      "source": [
        "### RandomForestClassifier"
      ],
      "metadata": {
        "id": "crSkoih-nAKr"
      }
    },
    {
      "cell_type": "code",
      "source": [
        "plotAvgPrecisionRecall('RandomForestClassifier', classifierMetadatasByName['RandomForestClassifier']['y_pred'])"
      ],
      "metadata": {
        "colab": {
          "base_uri": "https://localhost:8080/",
          "height": 295
        },
        "id": "ThkzkiHVm8xu",
        "outputId": "2defbd45-88a3-4547-cd3d-3b1e8a0d79a7"
      },
      "execution_count": 111,
      "outputs": [
        {
          "output_type": "display_data",
          "data": {
            "text/plain": [
              "<Figure size 432x288 with 1 Axes>"
            ],
            "image/png": "[encoded data removed]"
          },
          "metadata": {
            "needs_background": "light"
          }
        }
      ]
    },
    {
      "cell_type": "markdown",
      "source": [
        "## Plotting confusion matrix"
      ],
      "metadata": {
        "id": "qOkjFZwAnJW8"
      }
    },
    {
      "cell_type": "code",
      "source": [
        "# make_confusion_matrix has been retrieved from the following repository\n",
        "# https://github.com/DTrimarchi10/confusion_matrix/blob/master/cf_matrix.py\n",
        "\n",
        "def make_confusion_matrix(cf,\n",
        "                          group_names=None,\n",
        "                          categories='auto',\n",
        "                          count=True,\n",
        "                          percent=True,\n",
        "                          cbar=True,\n",
        "                          xyticks=True,\n",
        "                          xyplotlabels=True,\n",
        "                          sum_stats=True,\n",
        "                          figsize=None,\n",
        "                          cmap='Blues',\n",
        "                          title=None):\n",
        "    '''\n",
        "    This function will make a pretty plot of an sklearn Confusion Matrix cm using a Seaborn heatmap visualization.\n",
        "    Arguments\n",
        "    ---------\n",
        "    cf:            confusion matrix to be passed in\n",
        "    group_names:   List of strings that represent the labels row by row to be shown in each square.\n",
        "    categories:    List of strings containing the categories to be displayed on the x,y axis. Default is 'auto'\n",
        "    count:         If True, show the raw number in the confusion matrix. Default is True.\n",
        "    normalize:     If True, show the proportions for each category. Default is True.\n",
        "    cbar:          If True, show the color bar. The cbar values are based off the values in the confusion matrix.\n",
        "                   Default is True.\n",
        "    xyticks:       If True, show x and y ticks. Default is True.\n",
        "    xyplotlabels:  If True, show 'True Label' and 'Predicted Label' on the figure. Default is True.\n",
        "    sum_stats:     If True, display summary statistics below the figure. Default is True.\n",
        "    figsize:       Tuple representing the figure size. Default will be the matplotlib rcParams value.\n",
        "    cmap:          Colormap of the values displayed from matplotlib.pyplot.cm. Default is 'Blues'\n",
        "                   See http://matplotlib.org/examples/color/colormaps_reference.html\n",
        "                   \n",
        "    title:         Title for the heatmap. Default is None.\n",
        "    '''\n",
        "\n",
        "\n",
        "    # CODE TO GENERATE TEXT INSIDE EACH SQUARE\n",
        "    blanks = ['' for i in range(cf.size)]\n",
        "\n",
        "    if group_names and len(group_names)==cf.size:\n",
        "        group_labels = [\"{}\\n\".format(value) for value in group_names]\n",
        "    else:\n",
        "        group_labels = blanks\n",
        "\n",
        "    if count:\n",
        "        group_counts = [\"{0:0.0f}\\n\".format(value) for value in cf.flatten()]\n",
        "    else:\n",
        "        group_counts = blanks\n",
        "\n",
        "    if percent:\n",
        "        group_percentages = [\"{0:.2%}\".format(value) for value in cf.flatten()/np.sum(cf)]\n",
        "    else:\n",
        "        group_percentages = blanks\n",
        "\n",
        "    box_labels = [f\"{v1}{v2}{v3}\".strip() for v1, v2, v3 in zip(group_labels,group_counts,group_percentages)]\n",
        "    box_labels = np.asarray(box_labels).reshape(cf.shape[0],cf.shape[1])\n",
        "\n",
        "\n",
        "    # CODE TO GENERATE SUMMARY STATISTICS & TEXT FOR SUMMARY STATS\n",
        "    if sum_stats:\n",
        "        #Accuracy is sum of diagonal divided by total observations\n",
        "        accuracy  = np.trace(cf) / float(np.sum(cf))\n",
        "\n",
        "        #if it is a binary confusion matrix, show some more stats\n",
        "        if len(cf)==2:\n",
        "            #Metrics for Binary Confusion Matrices\n",
        "            precision = cf[1,1] / sum(cf[:,1])\n",
        "            recall    = cf[1,1] / sum(cf[1,:])\n",
        "            f1_score  = 2*precision*recall / (precision + recall)\n",
        "            stats_text = \"\\n\\nAccuracy={:0.3f}\\nPrecision={:0.3f}\\nRecall={:0.3f}\\nF1 Score={:0.3f}\".format(\n",
        "                accuracy,precision,recall,f1_score)\n",
        "        else:\n",
        "            stats_text = \"\\n\\nAccuracy={:0.3f}\".format(accuracy)\n",
        "    else:\n",
        "        stats_text = \"\"\n",
        "\n",
        "\n",
        "    # SET FIGURE PARAMETERS ACCORDING TO OTHER ARGUMENTS\n",
        "    if figsize==None:\n",
        "        #Get default figure size if not set\n",
        "        figsize = plt.rcParams.get('figure.figsize')\n",
        "\n",
        "    if xyticks==False:\n",
        "        #Do not show categories if xyticks is False\n",
        "        categories=False\n",
        "\n",
        "\n",
        "    # MAKE THE HEATMAP VISUALIZATION\n",
        "    plt.figure(figsize=figsize)\n",
        "    sns.heatmap(cf,annot=box_labels,fmt=\"\",cmap=cmap,cbar=cbar,xticklabels=categories,yticklabels=categories)\n",
        "\n",
        "    if xyplotlabels:\n",
        "        plt.ylabel('True label')\n",
        "        plt.xlabel('Predicted label' + stats_text)\n",
        "    else:\n",
        "        plt.xlabel(stats_text)\n",
        "    \n",
        "    if title:\n",
        "        plt.title(title)"
      ],
      "metadata": {
        "id": "y67exdlgq5FV"
      },
      "execution_count": 133,
      "outputs": []
    },
    {
      "cell_type": "code",
      "source": [
        "# utilitary method\n",
        "def plotConfusionMatrix(y_pred):\n",
        "  cf_matrix = confusion_matrix(y_test.argmax(axis=1), y_pred.argmax(axis=1))\n",
        "  make_confusion_matrix(cf_matrix)"
      ],
      "metadata": {
        "id": "q4yh1_tlrQ9b"
      },
      "execution_count": 134,
      "outputs": []
    },
    {
      "cell_type": "markdown",
      "source": [
        "### DecisionTreeClassifier"
      ],
      "metadata": {
        "id": "84OBai4YnsOE"
      }
    },
    {
      "cell_type": "code",
      "source": [
        "plotConfusionMatrix(classifierMetadatasByName['DecisionTreeClassifier']['y_pred'])"
      ],
      "metadata": {
        "colab": {
          "base_uri": "https://localhost:8080/",
          "height": 303
        },
        "id": "C3i_TQtonxRn",
        "outputId": "2df32692-1eb3-4ca9-8243-f9077fd35a2b"
      },
      "execution_count": 131,
      "outputs": [
        {
          "output_type": "display_data",
          "data": {
            "text/plain": [
              "<Figure size 432x288 with 2 Axes>"
            ],
            "image/png": "[encoded data removed]"
          },
          "metadata": {
            "needs_background": "light"
          }
        }
      ]
    },
    {
      "cell_type": "markdown",
      "source": [
        "### RandomForestClassifier"
      ],
      "metadata": {
        "id": "tbFhV9Ptnuro"
      }
    },
    {
      "cell_type": "code",
      "source": [
        "plotConfusionMatrix(classifierMetadatasByName['RandomForestClassifier']['y_pred'])"
      ],
      "metadata": {
        "colab": {
          "base_uri": "https://localhost:8080/",
          "height": 303
        },
        "id": "wI9TyjuMnIcD",
        "outputId": "cacfb48f-93a7-4cda-dd41-41143057c8cb"
      },
      "execution_count": 132,
      "outputs": [
        {
          "output_type": "display_data",
          "data": {
            "text/plain": [
              "<Figure size 432x288 with 2 Axes>"
            ],
            "image/png": "[encoded data removed]"
          },
          "metadata": {
            "needs_background": "light"
          }
        }
      ]
    },
    {
      "cell_type": "markdown",
      "source": [
        "## Challenge report\n",
        "\n",
        "the challenge report can be found on link below\n",
        "\n",
        "https://docs.google.com/presentation/d/1Bg3gNSuFEEjFUzBkwLtPK9i1TnPSprixqfnKcK9MAc0/\n"
      ],
      "metadata": {
        "id": "HPLlDrI9sgGP"
      }
    }
  ]
}